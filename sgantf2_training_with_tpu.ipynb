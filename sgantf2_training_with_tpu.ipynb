{
  "nbformat": 4,
  "nbformat_minor": 0,
  "metadata": {
    "colab": {
      "name": "sgantf2_training with tpu.ipynb",
      "provenance": [],
      "collapsed_sections": [],
      "toc_visible": true,
      "machine_shape": "hm",
      "mount_file_id": "1PkKXtr3PUa9CIjLC6vjoF649_9bgiUlA",
      "authorship_tag": "ABX9TyNBfH5ifBlw+tvtCNC0IvgQ",
      "include_colab_link": true
    },
    "kernelspec": {
      "name": "python3",
      "display_name": "Python 3"
    }
  },
  "cells": [
    {
      "cell_type": "markdown",
      "metadata": {
        "id": "view-in-github",
        "colab_type": "text"
      },
      "source": [
        "<a href=\"https://colab.research.google.com/github/howie-cn/stylegan2tf2x/blob/master/sgantf2_training_with_tpu.ipynb\" target=\"_parent\"><img src=\"https://colab.research.google.com/assets/colab-badge.svg\" alt=\"Open In Colab\"/></a>"
      ]
    },
    {
      "cell_type": "markdown",
      "metadata": {
        "id": "4E-iLmT8KQzL",
        "colab_type": "text"
      },
      "source": [
        "# 准备环境"
      ]
    },
    {
      "cell_type": "code",
      "metadata": {
        "id": "kOtsSqMbW7eB",
        "colab_type": "code",
        "colab": {}
      },
      "source": [
        "from google.colab import auth\n",
        "auth.authenticate_user()"
      ],
      "execution_count": 4,
      "outputs": []
    },
    {
      "cell_type": "code",
      "metadata": {
        "id": "-51PkIKeKOtf",
        "colab_type": "code",
        "colab": {
          "base_uri": "https://localhost:8080/",
          "height": 368
        },
        "outputId": "06cad631-df0c-44d2-8ee5-90e08b656935"
      },
      "source": [
        "# 进行google 授权，以便于读取gcs, google drive\n",
        "# from google.colab import auth\n",
        "# auth.authenticate_user()\n",
        "# %cd /content/drive/My\\ Drive/stylegan/sgan2tf2x\n",
        "\n",
        "\n",
        "## 导入标准包\n",
        "import os\n",
        "import datetime\n",
        "import numpy as np\n",
        "import tensorflow as tf\n",
        "from train_basic import *"
      ],
      "execution_count": 2,
      "outputs": [
        {
          "output_type": "stream",
          "text": [
            "[Errno 2] No such file or directory: '/content/drive/My Drive/stylegan/sgan2tf2x'\n",
            "/content\n"
          ],
          "name": "stdout"
        },
        {
          "output_type": "error",
          "ename": "ModuleNotFoundError",
          "evalue": "ignored",
          "traceback": [
            "\u001b[0;31m---------------------------------------------------------------------------\u001b[0m",
            "\u001b[0;31mModuleNotFoundError\u001b[0m                       Traceback (most recent call last)",
            "\u001b[0;32m<ipython-input-2-5706a6bf81f1>\u001b[0m in \u001b[0;36m<module>\u001b[0;34m()\u001b[0m\n\u001b[1;32m     10\u001b[0m \u001b[0;32mimport\u001b[0m \u001b[0mnumpy\u001b[0m \u001b[0;32mas\u001b[0m \u001b[0mnp\u001b[0m\u001b[0;34m\u001b[0m\u001b[0;34m\u001b[0m\u001b[0m\n\u001b[1;32m     11\u001b[0m \u001b[0;32mimport\u001b[0m \u001b[0mtensorflow\u001b[0m \u001b[0;32mas\u001b[0m \u001b[0mtf\u001b[0m\u001b[0;34m\u001b[0m\u001b[0;34m\u001b[0m\u001b[0m\n\u001b[0;32m---> 12\u001b[0;31m \u001b[0;32mfrom\u001b[0m \u001b[0mtrain_basic\u001b[0m \u001b[0;32mimport\u001b[0m \u001b[0;34m*\u001b[0m\u001b[0;34m\u001b[0m\u001b[0;34m\u001b[0m\u001b[0m\n\u001b[0m",
            "\u001b[0;31mModuleNotFoundError\u001b[0m: No module named 'train_basic'",
            "",
            "\u001b[0;31m---------------------------------------------------------------------------\u001b[0;32m\nNOTE: If your import is failing due to a missing package, you can\nmanually install dependencies using either !pip or !apt.\n\nTo view examples of installing some common dependencies, click the\n\"Open Examples\" button below.\n\u001b[0;31m---------------------------------------------------------------------------\u001b[0m\n"
          ]
        }
      ]
    },
    {
      "cell_type": "markdown",
      "metadata": {
        "id": "ycXZFLqSKJor",
        "colab_type": "text"
      },
      "source": [
        "# 准备参数"
      ]
    },
    {
      "cell_type": "code",
      "metadata": {
        "id": "vzzLLShQJnWz",
        "colab_type": "code",
        "colab": {}
      },
      "source": [
        "# 准备参数\n",
        "\n",
        "n_samples=200\n",
        "batch_size=1\n",
        "train_res=1024\n",
        "\n",
        "epochs=1\n",
        "\n",
        "model_base_dir='gs://howiecao_gcs/tfgan_model'\n",
        "tfrecord_dir='gs://howiecao_gcs/yellowlite'\n",
        "\n",
        "\n",
        "\n",
        "# 网络参数\n",
        "resolutions = [  4,   8,  16,  32,  64, 128, 256, 512, 1024]\n",
        "featuremaps = [512, 512, 512, 512, 512, 256, 128,  64,   32]\n",
        "train_resolutions, train_featuremaps = filter_resolutions_featuremaps(resolutions, featuremaps, train_res)\n",
        "# 生成网络参数\n",
        "g_params = {\n",
        "    'z_dim': 512,\n",
        "    'w_dim': 512,\n",
        "    'labels_dim': 0,\n",
        "    'n_mapping': 8,\n",
        "    'resolutions': train_resolutions,\n",
        "    'featuremaps': train_featuremaps,\n",
        "    'w_ema_decay': 0.995,\n",
        "    'style_mixing_prob': 0.9,\n",
        "}\n",
        "# 判别网络参数\n",
        "d_params = {\n",
        "    'labels_dim': 0,\n",
        "    'resolutions': train_resolutions,\n",
        "    'featuremaps': train_featuremaps,\n",
        "}\n",
        "\n",
        "# training parameters\n",
        "training_parameters = {\n",
        "    #dataset parameter\n",
        "    'model_base_dir': 'gs://howiecao_gcs/tfgan_model',\n",
        "    'tfrecord_dir': 'gs://howiecao_gcs/yellowlite',\n",
        "    'shuffle_buffer_size':n_samples,\n",
        "\n",
        "    # network params\n",
        "    'g_params': g_params,\n",
        "    'd_params': d_params,\n",
        "\n",
        "    # training params\n",
        "    'g_opt': {'learning_rate': 0.002, 'beta1': 0.0, 'beta2': 0.99, 'epsilon': 1e-08, 'reg_interval': 4},\n",
        "    'd_opt': {'learning_rate': 0.002, 'beta1': 0.0, 'beta2': 0.99, 'epsilon': 1e-08, 'reg_interval': 16},\n",
        "    'batch_size': batch_size,\n",
        "    'n_total_image': 200,\n",
        "    'n_samples': n_samples,\n",
        "    'lazy_regularization': True,\n",
        "}\n"
      ],
      "execution_count": null,
      "outputs": []
    },
    {
      "cell_type": "code",
      "metadata": {
        "id": "WMIOuU053jq5",
        "colab_type": "code",
        "colab": {
          "base_uri": "https://localhost:8080/",
          "height": 531
        },
        "outputId": "676f3230-5303-4a05-930e-061e62bd02fb"
      },
      "source": [
        "trainer = Trainer(training_parameters, name='stylegan2-ffhq')\n",
        "trainer.train()"
      ],
      "execution_count": null,
      "outputs": [
        {
          "output_type": "stream",
          "text": [
            "Setting datasets\n",
            "Create models\n"
          ],
          "name": "stdout"
        },
        {
          "output_type": "error",
          "ename": "InvalidArgumentError",
          "evalue": "ignored",
          "traceback": [
            "\u001b[0;31m---------------------------------------------------------------------------\u001b[0m",
            "\u001b[0;31mInvalidArgumentError\u001b[0m                      Traceback (most recent call last)",
            "\u001b[0;32m<ipython-input-7-6b27a2516b11>\u001b[0m in \u001b[0;36m<module>\u001b[0;34m()\u001b[0m\n\u001b[0;32m----> 1\u001b[0;31m \u001b[0mtrainer\u001b[0m \u001b[0;34m=\u001b[0m \u001b[0mTrainer\u001b[0m\u001b[0;34m(\u001b[0m\u001b[0mtraining_parameters\u001b[0m\u001b[0;34m,\u001b[0m \u001b[0mname\u001b[0m\u001b[0;34m=\u001b[0m\u001b[0;34m'stylegan2-ffhq'\u001b[0m\u001b[0;34m)\u001b[0m\u001b[0;34m\u001b[0m\u001b[0;34m\u001b[0m\u001b[0m\n\u001b[0m\u001b[1;32m      2\u001b[0m \u001b[0mtrainer\u001b[0m\u001b[0;34m.\u001b[0m\u001b[0mtrain\u001b[0m\u001b[0;34m(\u001b[0m\u001b[0;34m)\u001b[0m\u001b[0;34m\u001b[0m\u001b[0;34m\u001b[0m\u001b[0m\n",
            "\u001b[0;32m/content/drive/My Drive/stylegan/sgan2tf2x/train_basic.py\u001b[0m in \u001b[0;36m__init__\u001b[0;34m(self, t_params, name)\u001b[0m\n\u001b[1;32m     71\u001b[0m         \u001b[0mtest_labels\u001b[0m \u001b[0;34m=\u001b[0m \u001b[0mnp\u001b[0m\u001b[0;34m.\u001b[0m\u001b[0mones\u001b[0m\u001b[0;34m(\u001b[0m\u001b[0;34m(\u001b[0m\u001b[0;36m1\u001b[0m\u001b[0;34m,\u001b[0m \u001b[0mself\u001b[0m\u001b[0;34m.\u001b[0m\u001b[0mg_params\u001b[0m\u001b[0;34m[\u001b[0m\u001b[0;34m'labels_dim'\u001b[0m\u001b[0;34m]\u001b[0m\u001b[0;34m)\u001b[0m\u001b[0;34m,\u001b[0m \u001b[0mdtype\u001b[0m\u001b[0;34m=\u001b[0m\u001b[0mnp\u001b[0m\u001b[0;34m.\u001b[0m\u001b[0mfloat32\u001b[0m\u001b[0;34m)\u001b[0m\u001b[0;34m\u001b[0m\u001b[0;34m\u001b[0m\u001b[0m\n\u001b[1;32m     72\u001b[0m         \u001b[0mtest_images\u001b[0m \u001b[0;34m=\u001b[0m \u001b[0mnp\u001b[0m\u001b[0;34m.\u001b[0m\u001b[0mones\u001b[0m\u001b[0;34m(\u001b[0m\u001b[0;34m(\u001b[0m\u001b[0;36m1\u001b[0m\u001b[0;34m,\u001b[0m \u001b[0;36m3\u001b[0m\u001b[0;34m,\u001b[0m \u001b[0mself\u001b[0m\u001b[0;34m.\u001b[0m\u001b[0mout_res\u001b[0m\u001b[0;34m,\u001b[0m \u001b[0mself\u001b[0m\u001b[0;34m.\u001b[0m\u001b[0mout_res\u001b[0m\u001b[0;34m)\u001b[0m\u001b[0;34m,\u001b[0m \u001b[0mdtype\u001b[0m\u001b[0;34m=\u001b[0m\u001b[0mnp\u001b[0m\u001b[0;34m.\u001b[0m\u001b[0mfloat32\u001b[0m\u001b[0;34m)\u001b[0m\u001b[0;34m\u001b[0m\u001b[0;34m\u001b[0m\u001b[0m\n\u001b[0;32m---> 73\u001b[0;31m         \u001b[0m_\u001b[0m\u001b[0;34m,\u001b[0m \u001b[0m__\u001b[0m \u001b[0;34m=\u001b[0m \u001b[0mself\u001b[0m\u001b[0;34m.\u001b[0m\u001b[0mgenerator\u001b[0m\u001b[0;34m(\u001b[0m\u001b[0;34m[\u001b[0m\u001b[0mtest_latent\u001b[0m\u001b[0;34m,\u001b[0m \u001b[0mtest_labels\u001b[0m\u001b[0;34m]\u001b[0m\u001b[0;34m,\u001b[0m \u001b[0mtraining\u001b[0m\u001b[0;34m=\u001b[0m\u001b[0;32mFalse\u001b[0m\u001b[0;34m)\u001b[0m\u001b[0;34m\u001b[0m\u001b[0;34m\u001b[0m\u001b[0m\n\u001b[0m\u001b[1;32m     74\u001b[0m         \u001b[0m_\u001b[0m \u001b[0;34m=\u001b[0m \u001b[0mself\u001b[0m\u001b[0;34m.\u001b[0m\u001b[0mdiscriminator\u001b[0m\u001b[0;34m(\u001b[0m\u001b[0;34m[\u001b[0m\u001b[0mtest_images\u001b[0m\u001b[0;34m,\u001b[0m \u001b[0mtest_labels\u001b[0m\u001b[0;34m]\u001b[0m\u001b[0;34m,\u001b[0m \u001b[0mtraining\u001b[0m\u001b[0;34m=\u001b[0m\u001b[0;32mFalse\u001b[0m\u001b[0;34m)\u001b[0m\u001b[0;34m\u001b[0m\u001b[0;34m\u001b[0m\u001b[0m\n\u001b[1;32m     75\u001b[0m         \u001b[0m_\u001b[0m\u001b[0;34m,\u001b[0m \u001b[0m__\u001b[0m \u001b[0;34m=\u001b[0m \u001b[0mself\u001b[0m\u001b[0;34m.\u001b[0m\u001b[0mg_clone\u001b[0m\u001b[0;34m(\u001b[0m\u001b[0;34m[\u001b[0m\u001b[0mtest_latent\u001b[0m\u001b[0;34m,\u001b[0m \u001b[0mtest_labels\u001b[0m\u001b[0;34m]\u001b[0m\u001b[0;34m,\u001b[0m \u001b[0mtraining\u001b[0m\u001b[0;34m=\u001b[0m\u001b[0;32mFalse\u001b[0m\u001b[0;34m)\u001b[0m\u001b[0;34m\u001b[0m\u001b[0;34m\u001b[0m\u001b[0m\n",
            "\u001b[0;32m/usr/local/lib/python3.6/dist-packages/tensorflow/python/keras/engine/base_layer.py\u001b[0m in \u001b[0;36m__call__\u001b[0;34m(self, *args, **kwargs)\u001b[0m\n\u001b[1;32m    966\u001b[0m           with base_layer_utils.autocast_context_manager(\n\u001b[1;32m    967\u001b[0m               self._compute_dtype):\n\u001b[0;32m--> 968\u001b[0;31m             \u001b[0moutputs\u001b[0m \u001b[0;34m=\u001b[0m \u001b[0mself\u001b[0m\u001b[0;34m.\u001b[0m\u001b[0mcall\u001b[0m\u001b[0;34m(\u001b[0m\u001b[0mcast_inputs\u001b[0m\u001b[0;34m,\u001b[0m \u001b[0;34m*\u001b[0m\u001b[0margs\u001b[0m\u001b[0;34m,\u001b[0m \u001b[0;34m**\u001b[0m\u001b[0mkwargs\u001b[0m\u001b[0;34m)\u001b[0m\u001b[0;34m\u001b[0m\u001b[0;34m\u001b[0m\u001b[0m\n\u001b[0m\u001b[1;32m    969\u001b[0m           \u001b[0mself\u001b[0m\u001b[0;34m.\u001b[0m\u001b[0m_handle_activity_regularization\u001b[0m\u001b[0;34m(\u001b[0m\u001b[0minputs\u001b[0m\u001b[0;34m,\u001b[0m \u001b[0moutputs\u001b[0m\u001b[0;34m)\u001b[0m\u001b[0;34m\u001b[0m\u001b[0;34m\u001b[0m\u001b[0m\n\u001b[1;32m    970\u001b[0m           \u001b[0mself\u001b[0m\u001b[0;34m.\u001b[0m\u001b[0m_set_mask_metadata\u001b[0m\u001b[0;34m(\u001b[0m\u001b[0minputs\u001b[0m\u001b[0;34m,\u001b[0m \u001b[0moutputs\u001b[0m\u001b[0;34m,\u001b[0m \u001b[0minput_masks\u001b[0m\u001b[0;34m)\u001b[0m\u001b[0;34m\u001b[0m\u001b[0;34m\u001b[0m\u001b[0m\n",
            "\u001b[0;32m/usr/local/lib/python3.6/dist-packages/tensorflow/python/eager/def_function.py\u001b[0m in \u001b[0;36m__call__\u001b[0;34m(self, *args, **kwds)\u001b[0m\n\u001b[1;32m    578\u001b[0m         \u001b[0mxla_context\u001b[0m\u001b[0;34m.\u001b[0m\u001b[0mExit\u001b[0m\u001b[0;34m(\u001b[0m\u001b[0;34m)\u001b[0m\u001b[0;34m\u001b[0m\u001b[0;34m\u001b[0m\u001b[0m\n\u001b[1;32m    579\u001b[0m     \u001b[0;32melse\u001b[0m\u001b[0;34m:\u001b[0m\u001b[0;34m\u001b[0m\u001b[0;34m\u001b[0m\u001b[0m\n\u001b[0;32m--> 580\u001b[0;31m       \u001b[0mresult\u001b[0m \u001b[0;34m=\u001b[0m \u001b[0mself\u001b[0m\u001b[0;34m.\u001b[0m\u001b[0m_call\u001b[0m\u001b[0;34m(\u001b[0m\u001b[0;34m*\u001b[0m\u001b[0margs\u001b[0m\u001b[0;34m,\u001b[0m \u001b[0;34m**\u001b[0m\u001b[0mkwds\u001b[0m\u001b[0;34m)\u001b[0m\u001b[0;34m\u001b[0m\u001b[0;34m\u001b[0m\u001b[0m\n\u001b[0m\u001b[1;32m    581\u001b[0m \u001b[0;34m\u001b[0m\u001b[0m\n\u001b[1;32m    582\u001b[0m     \u001b[0;32mif\u001b[0m \u001b[0mtracing_count\u001b[0m \u001b[0;34m==\u001b[0m \u001b[0mself\u001b[0m\u001b[0;34m.\u001b[0m\u001b[0m_get_tracing_count\u001b[0m\u001b[0;34m(\u001b[0m\u001b[0;34m)\u001b[0m\u001b[0;34m:\u001b[0m\u001b[0;34m\u001b[0m\u001b[0;34m\u001b[0m\u001b[0m\n",
            "\u001b[0;32m/usr/local/lib/python3.6/dist-packages/tensorflow/python/eager/def_function.py\u001b[0m in \u001b[0;36m_call\u001b[0;34m(self, *args, **kwds)\u001b[0m\n\u001b[1;32m    642\u001b[0m         \u001b[0;31m# Lifting succeeded, so variables are initialized and we can run the\u001b[0m\u001b[0;34m\u001b[0m\u001b[0;34m\u001b[0m\u001b[0;34m\u001b[0m\u001b[0m\n\u001b[1;32m    643\u001b[0m         \u001b[0;31m# stateless function.\u001b[0m\u001b[0;34m\u001b[0m\u001b[0;34m\u001b[0m\u001b[0;34m\u001b[0m\u001b[0m\n\u001b[0;32m--> 644\u001b[0;31m         \u001b[0;32mreturn\u001b[0m \u001b[0mself\u001b[0m\u001b[0;34m.\u001b[0m\u001b[0m_stateless_fn\u001b[0m\u001b[0;34m(\u001b[0m\u001b[0;34m*\u001b[0m\u001b[0margs\u001b[0m\u001b[0;34m,\u001b[0m \u001b[0;34m**\u001b[0m\u001b[0mkwds\u001b[0m\u001b[0;34m)\u001b[0m\u001b[0;34m\u001b[0m\u001b[0;34m\u001b[0m\u001b[0m\n\u001b[0m\u001b[1;32m    645\u001b[0m     \u001b[0;32melse\u001b[0m\u001b[0;34m:\u001b[0m\u001b[0;34m\u001b[0m\u001b[0;34m\u001b[0m\u001b[0m\n\u001b[1;32m    646\u001b[0m       \u001b[0mcanon_args\u001b[0m\u001b[0;34m,\u001b[0m \u001b[0mcanon_kwds\u001b[0m \u001b[0;34m=\u001b[0m\u001b[0;31m \u001b[0m\u001b[0;31m\\\u001b[0m\u001b[0;34m\u001b[0m\u001b[0;34m\u001b[0m\u001b[0m\n",
            "\u001b[0;32m/usr/local/lib/python3.6/dist-packages/tensorflow/python/eager/function.py\u001b[0m in \u001b[0;36m__call__\u001b[0;34m(self, *args, **kwargs)\u001b[0m\n\u001b[1;32m   2418\u001b[0m     \u001b[0;32mwith\u001b[0m \u001b[0mself\u001b[0m\u001b[0;34m.\u001b[0m\u001b[0m_lock\u001b[0m\u001b[0;34m:\u001b[0m\u001b[0;34m\u001b[0m\u001b[0;34m\u001b[0m\u001b[0m\n\u001b[1;32m   2419\u001b[0m       \u001b[0mgraph_function\u001b[0m\u001b[0;34m,\u001b[0m \u001b[0margs\u001b[0m\u001b[0;34m,\u001b[0m \u001b[0mkwargs\u001b[0m \u001b[0;34m=\u001b[0m \u001b[0mself\u001b[0m\u001b[0;34m.\u001b[0m\u001b[0m_maybe_define_function\u001b[0m\u001b[0;34m(\u001b[0m\u001b[0margs\u001b[0m\u001b[0;34m,\u001b[0m \u001b[0mkwargs\u001b[0m\u001b[0;34m)\u001b[0m\u001b[0;34m\u001b[0m\u001b[0;34m\u001b[0m\u001b[0m\n\u001b[0;32m-> 2420\u001b[0;31m     \u001b[0;32mreturn\u001b[0m \u001b[0mgraph_function\u001b[0m\u001b[0;34m.\u001b[0m\u001b[0m_filtered_call\u001b[0m\u001b[0;34m(\u001b[0m\u001b[0margs\u001b[0m\u001b[0;34m,\u001b[0m \u001b[0mkwargs\u001b[0m\u001b[0;34m)\u001b[0m  \u001b[0;31m# pylint: disable=protected-access\u001b[0m\u001b[0;34m\u001b[0m\u001b[0;34m\u001b[0m\u001b[0m\n\u001b[0m\u001b[1;32m   2421\u001b[0m \u001b[0;34m\u001b[0m\u001b[0m\n\u001b[1;32m   2422\u001b[0m   \u001b[0;34m@\u001b[0m\u001b[0mproperty\u001b[0m\u001b[0;34m\u001b[0m\u001b[0;34m\u001b[0m\u001b[0m\n",
            "\u001b[0;32m/usr/local/lib/python3.6/dist-packages/tensorflow/python/eager/function.py\u001b[0m in \u001b[0;36m_filtered_call\u001b[0;34m(self, args, kwargs)\u001b[0m\n\u001b[1;32m   1663\u001b[0m          if isinstance(t, (ops.Tensor,\n\u001b[1;32m   1664\u001b[0m                            resource_variable_ops.BaseResourceVariable))),\n\u001b[0;32m-> 1665\u001b[0;31m         self.captured_inputs)\n\u001b[0m\u001b[1;32m   1666\u001b[0m \u001b[0;34m\u001b[0m\u001b[0m\n\u001b[1;32m   1667\u001b[0m   \u001b[0;32mdef\u001b[0m \u001b[0m_call_flat\u001b[0m\u001b[0;34m(\u001b[0m\u001b[0mself\u001b[0m\u001b[0;34m,\u001b[0m \u001b[0margs\u001b[0m\u001b[0;34m,\u001b[0m \u001b[0mcaptured_inputs\u001b[0m\u001b[0;34m,\u001b[0m \u001b[0mcancellation_manager\u001b[0m\u001b[0;34m=\u001b[0m\u001b[0;32mNone\u001b[0m\u001b[0;34m)\u001b[0m\u001b[0;34m:\u001b[0m\u001b[0;34m\u001b[0m\u001b[0;34m\u001b[0m\u001b[0m\n",
            "\u001b[0;32m/usr/local/lib/python3.6/dist-packages/tensorflow/python/eager/function.py\u001b[0m in \u001b[0;36m_call_flat\u001b[0;34m(self, args, captured_inputs, cancellation_manager)\u001b[0m\n\u001b[1;32m   1744\u001b[0m       \u001b[0;31m# No tape is watching; skip to running the function.\u001b[0m\u001b[0;34m\u001b[0m\u001b[0;34m\u001b[0m\u001b[0;34m\u001b[0m\u001b[0m\n\u001b[1;32m   1745\u001b[0m       return self._build_call_outputs(self._inference_function.call(\n\u001b[0;32m-> 1746\u001b[0;31m           ctx, args, cancellation_manager=cancellation_manager))\n\u001b[0m\u001b[1;32m   1747\u001b[0m     forward_backward = self._select_forward_and_backward_functions(\n\u001b[1;32m   1748\u001b[0m         \u001b[0margs\u001b[0m\u001b[0;34m,\u001b[0m\u001b[0;34m\u001b[0m\u001b[0;34m\u001b[0m\u001b[0m\n",
            "\u001b[0;32m/usr/local/lib/python3.6/dist-packages/tensorflow/python/eager/function.py\u001b[0m in \u001b[0;36mcall\u001b[0;34m(self, ctx, args, cancellation_manager)\u001b[0m\n\u001b[1;32m    596\u001b[0m               \u001b[0minputs\u001b[0m\u001b[0;34m=\u001b[0m\u001b[0margs\u001b[0m\u001b[0;34m,\u001b[0m\u001b[0;34m\u001b[0m\u001b[0;34m\u001b[0m\u001b[0m\n\u001b[1;32m    597\u001b[0m               \u001b[0mattrs\u001b[0m\u001b[0;34m=\u001b[0m\u001b[0mattrs\u001b[0m\u001b[0;34m,\u001b[0m\u001b[0;34m\u001b[0m\u001b[0;34m\u001b[0m\u001b[0m\n\u001b[0;32m--> 598\u001b[0;31m               ctx=ctx)\n\u001b[0m\u001b[1;32m    599\u001b[0m         \u001b[0;32melse\u001b[0m\u001b[0;34m:\u001b[0m\u001b[0;34m\u001b[0m\u001b[0;34m\u001b[0m\u001b[0m\n\u001b[1;32m    600\u001b[0m           outputs = execute.execute_with_cancellation(\n",
            "\u001b[0;32m/usr/local/lib/python3.6/dist-packages/tensorflow/python/eager/execute.py\u001b[0m in \u001b[0;36mquick_execute\u001b[0;34m(op_name, num_outputs, inputs, attrs, ctx, name)\u001b[0m\n\u001b[1;32m     58\u001b[0m     \u001b[0mctx\u001b[0m\u001b[0;34m.\u001b[0m\u001b[0mensure_initialized\u001b[0m\u001b[0;34m(\u001b[0m\u001b[0;34m)\u001b[0m\u001b[0;34m\u001b[0m\u001b[0;34m\u001b[0m\u001b[0m\n\u001b[1;32m     59\u001b[0m     tensors = pywrap_tfe.TFE_Py_Execute(ctx._handle, device_name, op_name,\n\u001b[0;32m---> 60\u001b[0;31m                                         inputs, attrs, num_outputs)\n\u001b[0m\u001b[1;32m     61\u001b[0m   \u001b[0;32mexcept\u001b[0m \u001b[0mcore\u001b[0m\u001b[0;34m.\u001b[0m\u001b[0m_NotOkStatusException\u001b[0m \u001b[0;32mas\u001b[0m \u001b[0me\u001b[0m\u001b[0;34m:\u001b[0m\u001b[0;34m\u001b[0m\u001b[0;34m\u001b[0m\u001b[0m\n\u001b[1;32m     62\u001b[0m     \u001b[0;32mif\u001b[0m \u001b[0mname\u001b[0m \u001b[0;32mis\u001b[0m \u001b[0;32mnot\u001b[0m \u001b[0;32mNone\u001b[0m\u001b[0;34m:\u001b[0m\u001b[0;34m\u001b[0m\u001b[0;34m\u001b[0m\u001b[0m\n",
            "\u001b[0;31mInvalidArgumentError\u001b[0m:  Conv2DCustomBackpropInputOp only supports NHWC.\n\t [[node g_synthesis/8x8/block/conv_0/conv2d_transpose (defined at /content/drive/My Drive/stylegan/sgan2tf2x/stylegan2/upfirdn_2d.py:79) ]] [Op:__inference_call_26962]\n\nErrors may have originated from an input operation.\nInput Source operations connected to node g_synthesis/8x8/block/conv_0/conv2d_transpose:\n g_synthesis/8x8/block/conv_0/Reshape_3 (defined at /content/drive/My Drive/stylegan/sgan2tf2x/stylegan2/upfirdn_2d.py:76)\t\n g_synthesis/8x8/block/conv_0/Reshape_1 (defined at /content/drive/My Drive/stylegan/sgan2tf2x/stylegan2/custom_layers.py:221)\n\nFunction call stack:\ncall\n"
          ]
        }
      ]
    },
    {
      "cell_type": "markdown",
      "metadata": {
        "id": "GlgdbGPPKW8c",
        "colab_type": "text"
      },
      "source": [
        "# 准备数据集"
      ]
    },
    {
      "cell_type": "code",
      "metadata": {
        "id": "HtQUL0nxJdNm",
        "colab_type": "code",
        "colab": {}
      },
      "source": [
        "train_dataset = get_gcs_dataset(training_parameters['tfrecord_dir'], \n",
        "                            train_res, \n",
        "                            training_parameters['shuffle_buffer_size'],\n",
        "                            batch_size, \n",
        "                            epochs=epochs\n",
        "                            )\n",
        "#train_dataset=train_dataset.prefetch"
      ],
      "execution_count": null,
      "outputs": []
    },
    {
      "cell_type": "code",
      "metadata": {
        "id": "KhBmfp36rKum",
        "colab_type": "code",
        "colab": {}
      },
      "source": [
        "\n",
        "model_base_dir = t_params['model_base_dir']\n",
        "tfrecord_dir = t_params['tfrecord_dir']\n",
        "shuffle_buffer_size = t_params['shuffle_buffer_size']\n",
        "\n",
        "g_opt = t_params['g_opt']\n",
        "d_opt = t_params['d_opt']\n",
        "batch_size = t_params['batch_size']\n",
        "n_total_image = t_params['n_total_image']\n",
        "n_samples = min(t_params['batch_size'], t_params['n_samples'])\n",
        "lazy_regularization = t_params['lazy_regularization']\n",
        "\n",
        "r1_gamma = 10.0\n",
        "# self.r2_gamma = 0.0\n",
        "max_steps = int(np.ceil(self.n_total_image / self.batch_size))\n",
        "out_res = self.g_params['resolutions'][-1]\n",
        "log_template = 'step {}: elapsed: {:.2f}s, d_loss: {:.3f}, g_loss: {:.3f}, r1_reg: {:.3f}, pl_reg: {:.3f}'\n",
        "print_step = 10\n",
        "save_step = 100\n",
        "image_summary_step = 100\n",
        "\n",
        "reached_max_steps = False\n",
        "\n",
        "# 设置优化器参数\n",
        "self.g_opt = self.set_optimizer_params(self.g_opt)\n",
        "self.d_opt = self.set_optimizer_params(self.d_opt)\n",
        "\n",
        "self.pl_mean = tf.Variable(initial_value=0.0, name='pl_mean', trainable=False)\n",
        "\n",
        "self.pl_decay = 0.01\n",
        "\n",
        "self.pl_weight = 1.0\n",
        "\n",
        "self.pl_denorm = 1.0 / np.sqrt(self.out_res * self.out_res)"
      ],
      "execution_count": null,
      "outputs": []
    },
    {
      "cell_type": "code",
      "metadata": {
        "id": "mPdsO7QuVGie",
        "colab_type": "code",
        "colab": {
          "base_uri": "https://localhost:8080/",
          "height": 611
        },
        "outputId": "2dc555d6-5d12-458a-cd81-f415feb7d688"
      },
      "source": [
        "# allow_memory_growth()\n",
        "class Trainer(object):\n",
        "    def __init__(self, t_params, name):\n",
        "        self.model_base_dir = t_params['model_base_dir']\n",
        "        self.tfrecord_dir = t_params['tfrecord_dir']\n",
        "        self.shuffle_buffer_size = t_params['shuffle_buffer_size']\n",
        "        self.g_params = t_params['g_params']\n",
        "        self.d_params = t_params['d_params']\n",
        "        self.g_opt = t_params['g_opt']\n",
        "        self.d_opt = t_params['d_opt']\n",
        "        self.batch_size = t_params['batch_size']\n",
        "        self.n_total_image = t_params['n_total_image']\n",
        "        self.n_samples = min(t_params['batch_size'], t_params['n_samples'])\n",
        "        self.lazy_regularization = t_params['lazy_regularization']\n",
        "\n",
        "        self.r1_gamma = 10.0\n",
        "        # self.r2_gamma = 0.0\n",
        "        self.max_steps = int(np.ceil(self.n_total_image / self.batch_size))\n",
        "        self.out_res = self.g_params['resolutions'][-1]\n",
        "        self.log_template = 'step {}: elapsed: {:.2f}s, d_loss: {:.3f}, g_loss: {:.3f}, r1_reg: {:.3f}, pl_reg: {:.3f}'\n",
        "        self.print_step = 10\n",
        "        self.save_step = 100\n",
        "        self.image_summary_step = 100\n",
        "\n",
        "        self.reached_max_steps = False\n",
        "\n",
        "        # 设置优化器参数\n",
        "        self.g_opt = self.set_optimizer_params(self.g_opt)\n",
        "        self.d_opt = self.set_optimizer_params(self.d_opt)\n",
        "\n",
        "        self.pl_mean = tf.Variable(initial_value=0.0, name='pl_mean', trainable=False)\n",
        "\n",
        "        self.pl_decay = 0.01\n",
        "        \n",
        "        self.pl_weight = 1.0\n",
        "        \n",
        "        self.pl_denorm = 1.0 / np.sqrt(self.out_res * self.out_res)\n",
        "\n",
        "        self.dataset= get_gcs_dataset(training_parameters['tfrecord_dir'], \n",
        "                            self.out_res, \n",
        "                            self.shuffle_buffer_size,\n",
        "                            self.batch_size, \n",
        "                            epochs=None\n",
        "                            )\n",
        "\n",
        "\n",
        "\n",
        "        # create models\n",
        "        print('构建模型')\n",
        "        print('生成器')\n",
        "        self.generator = Generator(self.g_params)\n",
        "        print('判别器')\n",
        "        self.discriminator = Discriminator(self.d_params)\n",
        "        \n",
        "        self.d_optimizer = tf.keras.optimizers.Adam(self.d_opt['learning_rate'],\n",
        "                                                    beta_1=self.d_opt['beta1'],\n",
        "                                                    beta_2=self.d_opt['beta2'],\n",
        "                                                    epsilon=self.d_opt['epsilon'])\n",
        "        self.g_optimizer = tf.keras.optimizers.Adam(self.g_opt['learning_rate'],\n",
        "                                                    beta_1=self.g_opt['beta1'],\n",
        "                                                    beta_2=self.g_opt['beta2'],\n",
        "                                                    epsilon=self.g_opt['epsilon'])\n",
        "        print('全局平均判别器')\n",
        "        self.g_clone = Generator(self.g_params)\n",
        "\n",
        "        # finalize model (build)\n",
        "        latents_in = np.ones((1, self.g_params['z_dim']), dtype=np.float32)\n",
        "        labels_in = np.ones((1, self.g_params['labels_dim']), dtype=np.float32)\n",
        "        images_in = np.ones((1, 3, self.out_res, self.out_res), dtype=np.float32)\n",
        "\n",
        "        _, __ = self.generator([latents_in, labels_in], training=False)\n",
        "        _ = self.discriminator([images_in, labels_in], training=False)\n",
        "        _, __ = self.g_clone([latents_in, labels_in], training=False)\n",
        "\n",
        "        print('Copying g_clone for average weighting')\n",
        "        self.g_clone.set_weights(self.generator.get_weights())\n",
        "\n",
        "        # setup saving locations (object based savings)\n",
        "        self.ckpt_dir = os.path.join(self.model_base_dir, name)\n",
        "\n",
        "        self.ckpt = tf.train.Checkpoint(\n",
        "            d_optimizer=self.d_optimizer,\n",
        "            g_optimizer=self.g_optimizer,\n",
        "            discriminator=self.discriminator,\n",
        "            generator=self.generator,\n",
        "            g_clone=self.g_clone\n",
        "            )\n",
        "        self.manager = tf.train.CheckpointManager(self.ckpt, self.ckpt_dir, max_to_keep=2)\n",
        "\n",
        "        # 如果有存储的检查点，则试图先恢复已保存的检查点\n",
        "        self.ckpt.restore(self.manager.latest_checkpoint)\n",
        "        if self.manager.latest_checkpoint:\n",
        "            print('Restored from {}'.format(self.manager.latest_checkpoint))\n",
        "\n",
        "            # check if already trained in this resolution\n",
        "            restored_step = self.g_optimizer.iterations.numpy()\n",
        "            if restored_step >= self.max_steps:\n",
        "                print('Already reached max steps {}/{}'.format(restored_step, self.max_steps))\n",
        "                self.reached_max_steps = True\n",
        "                return\n",
        "        else:\n",
        "            print('Not restoring from saved checkpoint')\n",
        "\n",
        "\n",
        "\n",
        "    @tf.function\n",
        "    def d_train_step(self, z, real_images, labels):\n",
        "        with tf.GradientTape() as d_tape:\n",
        "            # forward pass 前馈传递\n",
        "            # 生成器生成一张假的图片\n",
        "            fake_images, _ = self.generator([z, labels], training=True)\n",
        "            # 判别器判断为真的概率\n",
        "            real_scores = self.discriminator([real_images, labels], training=True)\n",
        "            # 判别器判断为假的概率\n",
        "            fake_scores = self.discriminator([fake_images, labels], training=True)\n",
        "\n",
        "            # gan loss gan损失\n",
        "            # \n",
        "            d_loss = tf.math.softplus(fake_scores)\n",
        "            d_loss = d_loss+tf.math.softplus(-real_scores)\n",
        "            d_loss = tf.reduce_mean(d_loss)\n",
        "        d_gradients = d_tape.gradient(d_loss, self.discriminator.trainable_variables)\n",
        "        self.d_optimizer.apply_gradients(zip(d_gradients, self.discriminator.trainable_variables))\n",
        "        return d_loss\n",
        "\n",
        "    @tf.function\n",
        "    def d_reg_train_step(self, z, real_images, labels):\n",
        "        with tf.GradientTape() as d_tape:\n",
        "            # forward pass\n",
        "            fake_images, _ = self.generator([z, labels], training=True)\n",
        "            real_scores = self.discriminator([real_images, labels], training=True)\n",
        "            fake_scores = self.discriminator([fake_images, labels], training=True)\n",
        "\n",
        "            # gan loss\n",
        "            d_loss = tf.math.softplus(fake_scores)\n",
        "            d_loss = d_loss+tf.math.softplus(-real_scores)\n",
        "\n",
        "            # simple GP\n",
        "            with tf.GradientTape() as p_tape:\n",
        "                p_tape.watch(real_images)\n",
        "                real_loss = tf.reduce_sum(self.discriminator([real_images, labels], training=True))\n",
        "\n",
        "            real_grads = p_tape.gradient(real_loss, real_images)\n",
        "            r1_penalty = tf.reduce_sum(tf.math.square(real_grads), axis=[1, 2, 3])\n",
        "            r1_penalty = tf.expand_dims(r1_penalty, axis=1)\n",
        "            r1_penalty = r1_penalty * self.d_opt['reg_interval']\n",
        "\n",
        "            # combine\n",
        "            d_loss = d_loss+ r1_penalty * (0.5 * self.r1_gamma)\n",
        "            d_loss = tf.reduce_mean(d_loss)\n",
        "\n",
        "        d_gradients = d_tape.gradient(d_loss, self.discriminator.trainable_variables)\n",
        "        self.d_optimizer.apply_gradients(zip(d_gradients, self.discriminator.trainable_variables))\n",
        "        return d_loss, tf.reduce_mean(r1_penalty)\n",
        "\n",
        "    @tf.function\n",
        "    def g_train_step(self, z, labels):\n",
        "        with tf.GradientTape() as g_tape:\n",
        "            # forward pass\n",
        "            fake_images, _ = self.generator([z, labels], training=True)\n",
        "            fake_scores = self.discriminator([fake_images, labels], training=True)\n",
        "\n",
        "            # gan loss\n",
        "            g_loss = tf.math.softplus(-fake_scores)\n",
        "            g_loss = tf.reduce_mean(g_loss)\n",
        "\n",
        "        g_gradients = g_tape.gradient(g_loss, self.generator.trainable_variables)\n",
        "        self.g_optimizer.apply_gradients(zip(g_gradients, self.generator.trainable_variables))\n",
        "        return g_loss\n",
        "\n",
        "    @tf.function\n",
        "    def g_reg_train_step(self, z, labels):\n",
        "        with tf.GradientTape() as g_tape:\n",
        "            # forward pass\n",
        "            fake_images, _ = self.generator([z, labels], training=True)\n",
        "            fake_scores = self.discriminator([fake_images, labels], training=True)\n",
        "\n",
        "            # gan loss\n",
        "            g_loss = tf.math.softplus(-fake_scores)\n",
        "\n",
        "            # path length regularization\n",
        "            # Compute |J*y|.\n",
        "            with tf.GradientTape() as pl_tape:\n",
        "                fake_images, w_broadcasted = self.generator([z, labels], training=True)\n",
        "\n",
        "                pl_noise = tf.random.normal(tf.shape(fake_images), mean=0.0, stddev=1.0, dtype=tf.float32) * self.pl_denorm\n",
        "                pl_noise_added = tf.reduce_sum(fake_images * pl_noise)\n",
        "\n",
        "            pl_grads = pl_tape.gradient(pl_noise_added, w_broadcasted)\n",
        "            pl_lengths = tf.math.sqrt(tf.reduce_mean(tf.reduce_sum(tf.math.square(pl_grads), axis=2), axis=1))\n",
        "\n",
        "            # Track exponential moving average of |J*y|.\n",
        "            pl_mean_val = self.pl_mean + self.pl_decay * (tf.reduce_mean(pl_lengths) - self.pl_mean)\n",
        "            self.pl_mean.assign(pl_mean_val)\n",
        "\n",
        "            # Calculate (|J*y|-a)^2.\n",
        "            pl_penalty = tf.square(pl_lengths - self.pl_mean)\n",
        "\n",
        "            # compute\n",
        "            pl_reg = pl_penalty * self.pl_weight\n",
        "\n",
        "            # combine\n",
        "            g_loss = g_loss+pl_reg\n",
        "            g_loss = tf.reduce_mean(g_loss)\n",
        "\n",
        "        g_gradients = g_tape.gradient(g_loss, self.generator.trainable_variables)\n",
        "        self.g_optimizer.apply_gradients(zip(g_gradients, self.generator.trainable_variables))\n",
        "        return g_loss, tf.reduce_mean(pl_reg)\n",
        "\n",
        "    def train(self):\n",
        "\n",
        "        if self.reached_max_steps:\n",
        "            return\n",
        "        \n",
        "        print('开始训练{}'.format(datetime.datetime.now()))\n",
        "\n",
        "        # setup tensorboards\n",
        "        train_summary_writer = tf.summary.create_file_writer(self.ckpt_dir)\n",
        "\n",
        "        # loss metrics\n",
        "        metric_g_loss = tf.keras.metrics.Mean('g_loss', dtype=tf.float32)\n",
        "        metric_d_loss = tf.keras.metrics.Mean('d_loss', dtype=tf.float32)\n",
        "        metric_r1_reg = tf.keras.metrics.Mean('r1_reg', dtype=tf.float32)\n",
        "        metric_pl_reg = tf.keras.metrics.Mean('pl_reg', dtype=tf.float32)\n",
        "\n",
        "        # start training\n",
        "        print('max_steps: {}'.format(self.max_steps))\n",
        "        losses = {\n",
        "            'g_loss': 0.0,\n",
        "            'd_loss': 0.0, \n",
        "            'r1_reg': 0.0, \n",
        "            'pl_reg': 0.0\n",
        "            }\n",
        "\n",
        "        t_start = time.time()\n",
        "\n",
        "        print('before training loop')\n",
        "        for real_images in self.dataset:\n",
        "            # preprocess inputs\n",
        "\n",
        "            z = tf.random.normal(shape=[tf.shape(real_images)[0], self.g_params['z_dim']], dtype=tf.dtypes.float32)\n",
        "\n",
        "            print('debug 00')\n",
        "            real_images = preprocess_fit_train_image(real_images, self.out_res)\n",
        "\n",
        "\n",
        "            print('image shape is {}'.format(real_images.shape))\n",
        "\n",
        "            labels = tf.ones((tf.shape(real_images)[0], self.g_params['labels_dim']), dtype=tf.dtypes.float32)\n",
        "\n",
        "            # get current step\n",
        "            step = self.g_optimizer.iterations.numpy()\n",
        "\n",
        "            # d train step\n",
        "            if step % self.d_opt['reg_interval'] == 0:\n",
        "                d_loss, r1_reg = self.d_reg_train_step(z, real_images, labels)\n",
        "\n",
        "                # update values for printing\n",
        "                losses['d_loss'] = d_loss.numpy()\n",
        "                losses['r1_reg'] = r1_reg.numpy()\n",
        "\n",
        "                # update metrics\n",
        "                metric_d_loss(d_loss)\n",
        "                metric_r1_reg(r1_reg)\n",
        "            else:\n",
        "                d_loss = self.d_train_step(z, real_images, labels)\n",
        "\n",
        "                # update values for printing\n",
        "                losses['d_loss'] = d_loss.numpy()\n",
        "                losses['r1_reg'] = 0.0\n",
        "\n",
        "                # update metrics\n",
        "                metric_d_loss(d_loss)\n",
        "\n",
        "            # update g_clone\n",
        "            # 全局移动平均权重\n",
        "            self.g_clone.set_as_moving_average_of(self.generator)\n",
        "\n",
        "            # g train step\n",
        "            if step % self.g_opt['reg_interval'] == 0:\n",
        "                g_loss, pl_reg = self.g_reg_train_step(z, labels)\n",
        "\n",
        "                # update values for printing\n",
        "                losses['g_loss'] = g_loss.numpy()\n",
        "                losses['pl_reg'] = pl_reg.numpy()\n",
        "\n",
        "                # update metrics\n",
        "                metric_g_loss(g_loss)\n",
        "                metric_pl_reg(pl_reg)\n",
        "            else:\n",
        "                g_loss = self.g_train_step(z, labels)\n",
        "\n",
        "                # update values for printing\n",
        "                losses['g_loss'] = g_loss.numpy()\n",
        "                losses['pl_reg'] = 0.0\n",
        "\n",
        "                # update metrics\n",
        "                metric_g_loss(g_loss)\n",
        "\n",
        "            # save to tensorboard\n",
        "            with train_summary_writer.as_default():\n",
        "                tf.summary.scalar('g_loss', metric_g_loss.result(), step=step)\n",
        "                tf.summary.scalar('d_loss', metric_d_loss.result(), step=step)\n",
        "                tf.summary.scalar('r1_reg', metric_r1_reg.result(), step=step)\n",
        "                tf.summary.scalar('pl_reg', metric_pl_reg.result(), step=step)\n",
        "                tf.summary.histogram('w_avg', self.generator.w_avg, step=step)\n",
        "\n",
        "            # save every self.save_step\n",
        "            if step % self.save_step == 0:\n",
        "                self.manager.save(checkpoint_number=step)\n",
        "\n",
        "            # save every self.image_summary_step\n",
        "            if step % self.image_summary_step == 0:\n",
        "                # add summary image\n",
        "                summary_image = self.sample_images_tensorboard(real_images)\n",
        "                with train_summary_writer.as_default():\n",
        "                    tf.summary.image('images', summary_image, step=step)\n",
        "\n",
        "            # print every self.print_steps\n",
        "            if step % self.print_step == 0:\n",
        "                elapsed = time.time() - t_start\n",
        "                print(self.log_template.format(step, elapsed,\n",
        "                                               losses['d_loss'], losses['g_loss'], losses['r1_reg'], losses['pl_reg']))\n",
        "\n",
        "                # reset timer\n",
        "                t_start = time.time()\n",
        "\n",
        "            # check exit status\n",
        "            if step >= self.max_steps:\n",
        "                break\n",
        "\n",
        "        #  获取当前step\n",
        "        step = self.g_optimizer.iterations.numpy()\n",
        "        elapsed = time.time() - t_start\n",
        "        print(self.log_template.format(step, elapsed,losses['d_loss'], losses['g_loss'], losses['r1_reg'], losses['pl_reg']))\n",
        "\n",
        "        # save last checkpoint \n",
        "        self.manager.save(checkpoint_number=step)\n",
        "        return\n",
        "\n",
        "    def sample_images_tensorboard(self, real_images):\n",
        "        # prepare inputs\n",
        "        reals = real_images[:self.n_samples, :, :, :]\n",
        "        latents = tf.random.normal(shape=(self.n_samples, self.g_params['z_dim']), dtype=tf.dtypes.float32)\n",
        "        dummy_labels = tf.ones((self.n_samples, self.g_params['labels_dim']), dtype=tf.dtypes.float32)\n",
        "\n",
        "        # run networks\n",
        "        fake_images_00, _ = self.g_clone([latents, dummy_labels], truncation_psi=0.0, training=False)\n",
        "        fake_images_05, _ = self.g_clone([latents, dummy_labels], truncation_psi=0.5, training=False)\n",
        "        fake_images_07, _ = self.g_clone([latents, dummy_labels], truncation_psi=0.7, training=False)\n",
        "        fake_images_10, _ = self.g_clone([latents, dummy_labels], truncation_psi=1.0, training=False)\n",
        "\n",
        "        # merge on batch dimension: [5 * n_samples, 3, out_res, out_res]\n",
        "        out = tf.concat([reals, fake_images_00, fake_images_05, fake_images_07, fake_images_10], axis=0)\n",
        "\n",
        "        # prepare for image saving: [5 * n_samples, out_res, out_res, 3]\n",
        "        out = postprocess_images(out)\n",
        "\n",
        "        # resize to save disk spaces: [5 * n_samples, size, size, 3]\n",
        "        size = min(self.out_res, 256)\n",
        "        out = tf.image.resize(out, size=[size, size])\n",
        "\n",
        "        # make single image and add batch dimension for tensorboard: [1, 5 * size, n_samples * size, 3]\n",
        "        out = merge_batch_images(out, size, rows=5, cols=self.n_samples)\n",
        "        out = np.expand_dims(out, axis=0)\n",
        "        return out\n",
        "\n",
        "\n",
        "\n",
        "\n",
        "\n",
        "\n",
        "# 构建模型\n",
        "trainer = Trainer(training_parameters, \n",
        "            name='stylegan2-yellow'\n",
        "                  )\n",
        "\n",
        "trainer.train()\n"
      ],
      "execution_count": null,
      "outputs": [
        {
          "output_type": "stream",
          "text": [
            "构建模型\n",
            "生成器\n",
            "判别器\n",
            "全局平均判别器\n"
          ],
          "name": "stdout"
        },
        {
          "output_type": "error",
          "ename": "InvalidArgumentError",
          "evalue": "ignored",
          "traceback": [
            "\u001b[0;31m---------------------------------------------------------------------------\u001b[0m",
            "\u001b[0;31mInvalidArgumentError\u001b[0m                      Traceback (most recent call last)",
            "\u001b[0;32m<ipython-input-13-5c4795f03d8c>\u001b[0m in \u001b[0;36m<module>\u001b[0;34m()\u001b[0m\n\u001b[1;32m    380\u001b[0m \u001b[0;31m# 构建模型\u001b[0m\u001b[0;34m\u001b[0m\u001b[0;34m\u001b[0m\u001b[0;34m\u001b[0m\u001b[0m\n\u001b[1;32m    381\u001b[0m trainer = Trainer(training_parameters, \n\u001b[0;32m--> 382\u001b[0;31m             \u001b[0mname\u001b[0m\u001b[0;34m=\u001b[0m\u001b[0;34m'stylegan2-yellow'\u001b[0m\u001b[0;34m\u001b[0m\u001b[0;34m\u001b[0m\u001b[0m\n\u001b[0m\u001b[1;32m    383\u001b[0m                   )\n\u001b[1;32m    384\u001b[0m \u001b[0;34m\u001b[0m\u001b[0m\n",
            "\u001b[0;32m<ipython-input-13-5c4795f03d8c>\u001b[0m in \u001b[0;36m__init__\u001b[0;34m(self, t_params, name)\u001b[0m\n\u001b[1;32m     69\u001b[0m         \u001b[0mimages_in\u001b[0m \u001b[0;34m=\u001b[0m \u001b[0mnp\u001b[0m\u001b[0;34m.\u001b[0m\u001b[0mones\u001b[0m\u001b[0;34m(\u001b[0m\u001b[0;34m(\u001b[0m\u001b[0;36m1\u001b[0m\u001b[0;34m,\u001b[0m \u001b[0;36m3\u001b[0m\u001b[0;34m,\u001b[0m \u001b[0mself\u001b[0m\u001b[0;34m.\u001b[0m\u001b[0mout_res\u001b[0m\u001b[0;34m,\u001b[0m \u001b[0mself\u001b[0m\u001b[0;34m.\u001b[0m\u001b[0mout_res\u001b[0m\u001b[0;34m)\u001b[0m\u001b[0;34m,\u001b[0m \u001b[0mdtype\u001b[0m\u001b[0;34m=\u001b[0m\u001b[0mnp\u001b[0m\u001b[0;34m.\u001b[0m\u001b[0mfloat32\u001b[0m\u001b[0;34m)\u001b[0m\u001b[0;34m\u001b[0m\u001b[0;34m\u001b[0m\u001b[0m\n\u001b[1;32m     70\u001b[0m \u001b[0;34m\u001b[0m\u001b[0m\n\u001b[0;32m---> 71\u001b[0;31m         \u001b[0m_\u001b[0m\u001b[0;34m,\u001b[0m \u001b[0m__\u001b[0m \u001b[0;34m=\u001b[0m \u001b[0mself\u001b[0m\u001b[0;34m.\u001b[0m\u001b[0mgenerator\u001b[0m\u001b[0;34m(\u001b[0m\u001b[0;34m[\u001b[0m\u001b[0mlatents_in\u001b[0m\u001b[0;34m,\u001b[0m \u001b[0mlabels_in\u001b[0m\u001b[0;34m]\u001b[0m\u001b[0;34m,\u001b[0m \u001b[0mtraining\u001b[0m\u001b[0;34m=\u001b[0m\u001b[0;32mFalse\u001b[0m\u001b[0;34m)\u001b[0m\u001b[0;34m\u001b[0m\u001b[0;34m\u001b[0m\u001b[0m\n\u001b[0m\u001b[1;32m     72\u001b[0m         \u001b[0m_\u001b[0m \u001b[0;34m=\u001b[0m \u001b[0mself\u001b[0m\u001b[0;34m.\u001b[0m\u001b[0mdiscriminator\u001b[0m\u001b[0;34m(\u001b[0m\u001b[0;34m[\u001b[0m\u001b[0mimages_in\u001b[0m\u001b[0;34m,\u001b[0m \u001b[0mlabels_in\u001b[0m\u001b[0;34m]\u001b[0m\u001b[0;34m,\u001b[0m \u001b[0mtraining\u001b[0m\u001b[0;34m=\u001b[0m\u001b[0;32mFalse\u001b[0m\u001b[0;34m)\u001b[0m\u001b[0;34m\u001b[0m\u001b[0;34m\u001b[0m\u001b[0m\n\u001b[1;32m     73\u001b[0m         \u001b[0m_\u001b[0m\u001b[0;34m,\u001b[0m \u001b[0m__\u001b[0m \u001b[0;34m=\u001b[0m \u001b[0mself\u001b[0m\u001b[0;34m.\u001b[0m\u001b[0mg_clone\u001b[0m\u001b[0;34m(\u001b[0m\u001b[0;34m[\u001b[0m\u001b[0mlatents_in\u001b[0m\u001b[0;34m,\u001b[0m \u001b[0mlabels_in\u001b[0m\u001b[0;34m]\u001b[0m\u001b[0;34m,\u001b[0m \u001b[0mtraining\u001b[0m\u001b[0;34m=\u001b[0m\u001b[0;32mFalse\u001b[0m\u001b[0;34m)\u001b[0m\u001b[0;34m\u001b[0m\u001b[0;34m\u001b[0m\u001b[0m\n",
            "\u001b[0;32m/usr/local/lib/python3.6/dist-packages/tensorflow/python/keras/engine/base_layer.py\u001b[0m in \u001b[0;36m__call__\u001b[0;34m(self, *args, **kwargs)\u001b[0m\n\u001b[1;32m    966\u001b[0m           with base_layer_utils.autocast_context_manager(\n\u001b[1;32m    967\u001b[0m               self._compute_dtype):\n\u001b[0;32m--> 968\u001b[0;31m             \u001b[0moutputs\u001b[0m \u001b[0;34m=\u001b[0m \u001b[0mself\u001b[0m\u001b[0;34m.\u001b[0m\u001b[0mcall\u001b[0m\u001b[0;34m(\u001b[0m\u001b[0mcast_inputs\u001b[0m\u001b[0;34m,\u001b[0m \u001b[0;34m*\u001b[0m\u001b[0margs\u001b[0m\u001b[0;34m,\u001b[0m \u001b[0;34m**\u001b[0m\u001b[0mkwargs\u001b[0m\u001b[0;34m)\u001b[0m\u001b[0;34m\u001b[0m\u001b[0;34m\u001b[0m\u001b[0m\n\u001b[0m\u001b[1;32m    969\u001b[0m           \u001b[0mself\u001b[0m\u001b[0;34m.\u001b[0m\u001b[0m_handle_activity_regularization\u001b[0m\u001b[0;34m(\u001b[0m\u001b[0minputs\u001b[0m\u001b[0;34m,\u001b[0m \u001b[0moutputs\u001b[0m\u001b[0;34m)\u001b[0m\u001b[0;34m\u001b[0m\u001b[0;34m\u001b[0m\u001b[0m\n\u001b[1;32m    970\u001b[0m           \u001b[0mself\u001b[0m\u001b[0;34m.\u001b[0m\u001b[0m_set_mask_metadata\u001b[0m\u001b[0;34m(\u001b[0m\u001b[0minputs\u001b[0m\u001b[0;34m,\u001b[0m \u001b[0moutputs\u001b[0m\u001b[0;34m,\u001b[0m \u001b[0minput_masks\u001b[0m\u001b[0;34m)\u001b[0m\u001b[0;34m\u001b[0m\u001b[0;34m\u001b[0m\u001b[0m\n",
            "\u001b[0;32m/usr/local/lib/python3.6/dist-packages/tensorflow/python/eager/def_function.py\u001b[0m in \u001b[0;36m__call__\u001b[0;34m(self, *args, **kwds)\u001b[0m\n\u001b[1;32m    578\u001b[0m         \u001b[0mxla_context\u001b[0m\u001b[0;34m.\u001b[0m\u001b[0mExit\u001b[0m\u001b[0;34m(\u001b[0m\u001b[0;34m)\u001b[0m\u001b[0;34m\u001b[0m\u001b[0;34m\u001b[0m\u001b[0m\n\u001b[1;32m    579\u001b[0m     \u001b[0;32melse\u001b[0m\u001b[0;34m:\u001b[0m\u001b[0;34m\u001b[0m\u001b[0;34m\u001b[0m\u001b[0m\n\u001b[0;32m--> 580\u001b[0;31m       \u001b[0mresult\u001b[0m \u001b[0;34m=\u001b[0m \u001b[0mself\u001b[0m\u001b[0;34m.\u001b[0m\u001b[0m_call\u001b[0m\u001b[0;34m(\u001b[0m\u001b[0;34m*\u001b[0m\u001b[0margs\u001b[0m\u001b[0;34m,\u001b[0m \u001b[0;34m**\u001b[0m\u001b[0mkwds\u001b[0m\u001b[0;34m)\u001b[0m\u001b[0;34m\u001b[0m\u001b[0;34m\u001b[0m\u001b[0m\n\u001b[0m\u001b[1;32m    581\u001b[0m \u001b[0;34m\u001b[0m\u001b[0m\n\u001b[1;32m    582\u001b[0m     \u001b[0;32mif\u001b[0m \u001b[0mtracing_count\u001b[0m \u001b[0;34m==\u001b[0m \u001b[0mself\u001b[0m\u001b[0;34m.\u001b[0m\u001b[0m_get_tracing_count\u001b[0m\u001b[0;34m(\u001b[0m\u001b[0;34m)\u001b[0m\u001b[0;34m:\u001b[0m\u001b[0;34m\u001b[0m\u001b[0;34m\u001b[0m\u001b[0m\n",
            "\u001b[0;32m/usr/local/lib/python3.6/dist-packages/tensorflow/python/eager/def_function.py\u001b[0m in \u001b[0;36m_call\u001b[0;34m(self, *args, **kwds)\u001b[0m\n\u001b[1;32m    642\u001b[0m         \u001b[0;31m# Lifting succeeded, so variables are initialized and we can run the\u001b[0m\u001b[0;34m\u001b[0m\u001b[0;34m\u001b[0m\u001b[0;34m\u001b[0m\u001b[0m\n\u001b[1;32m    643\u001b[0m         \u001b[0;31m# stateless function.\u001b[0m\u001b[0;34m\u001b[0m\u001b[0;34m\u001b[0m\u001b[0;34m\u001b[0m\u001b[0m\n\u001b[0;32m--> 644\u001b[0;31m         \u001b[0;32mreturn\u001b[0m \u001b[0mself\u001b[0m\u001b[0;34m.\u001b[0m\u001b[0m_stateless_fn\u001b[0m\u001b[0;34m(\u001b[0m\u001b[0;34m*\u001b[0m\u001b[0margs\u001b[0m\u001b[0;34m,\u001b[0m \u001b[0;34m**\u001b[0m\u001b[0mkwds\u001b[0m\u001b[0;34m)\u001b[0m\u001b[0;34m\u001b[0m\u001b[0;34m\u001b[0m\u001b[0m\n\u001b[0m\u001b[1;32m    645\u001b[0m     \u001b[0;32melse\u001b[0m\u001b[0;34m:\u001b[0m\u001b[0;34m\u001b[0m\u001b[0;34m\u001b[0m\u001b[0m\n\u001b[1;32m    646\u001b[0m       \u001b[0mcanon_args\u001b[0m\u001b[0;34m,\u001b[0m \u001b[0mcanon_kwds\u001b[0m \u001b[0;34m=\u001b[0m\u001b[0;31m \u001b[0m\u001b[0;31m\\\u001b[0m\u001b[0;34m\u001b[0m\u001b[0;34m\u001b[0m\u001b[0m\n",
            "\u001b[0;32m/usr/local/lib/python3.6/dist-packages/tensorflow/python/eager/function.py\u001b[0m in \u001b[0;36m__call__\u001b[0;34m(self, *args, **kwargs)\u001b[0m\n\u001b[1;32m   2418\u001b[0m     \u001b[0;32mwith\u001b[0m \u001b[0mself\u001b[0m\u001b[0;34m.\u001b[0m\u001b[0m_lock\u001b[0m\u001b[0;34m:\u001b[0m\u001b[0;34m\u001b[0m\u001b[0;34m\u001b[0m\u001b[0m\n\u001b[1;32m   2419\u001b[0m       \u001b[0mgraph_function\u001b[0m\u001b[0;34m,\u001b[0m \u001b[0margs\u001b[0m\u001b[0;34m,\u001b[0m \u001b[0mkwargs\u001b[0m \u001b[0;34m=\u001b[0m \u001b[0mself\u001b[0m\u001b[0;34m.\u001b[0m\u001b[0m_maybe_define_function\u001b[0m\u001b[0;34m(\u001b[0m\u001b[0margs\u001b[0m\u001b[0;34m,\u001b[0m \u001b[0mkwargs\u001b[0m\u001b[0;34m)\u001b[0m\u001b[0;34m\u001b[0m\u001b[0;34m\u001b[0m\u001b[0m\n\u001b[0;32m-> 2420\u001b[0;31m     \u001b[0;32mreturn\u001b[0m \u001b[0mgraph_function\u001b[0m\u001b[0;34m.\u001b[0m\u001b[0m_filtered_call\u001b[0m\u001b[0;34m(\u001b[0m\u001b[0margs\u001b[0m\u001b[0;34m,\u001b[0m \u001b[0mkwargs\u001b[0m\u001b[0;34m)\u001b[0m  \u001b[0;31m# pylint: disable=protected-access\u001b[0m\u001b[0;34m\u001b[0m\u001b[0;34m\u001b[0m\u001b[0m\n\u001b[0m\u001b[1;32m   2421\u001b[0m \u001b[0;34m\u001b[0m\u001b[0m\n\u001b[1;32m   2422\u001b[0m   \u001b[0;34m@\u001b[0m\u001b[0mproperty\u001b[0m\u001b[0;34m\u001b[0m\u001b[0;34m\u001b[0m\u001b[0m\n",
            "\u001b[0;32m/usr/local/lib/python3.6/dist-packages/tensorflow/python/eager/function.py\u001b[0m in \u001b[0;36m_filtered_call\u001b[0;34m(self, args, kwargs)\u001b[0m\n\u001b[1;32m   1663\u001b[0m          if isinstance(t, (ops.Tensor,\n\u001b[1;32m   1664\u001b[0m                            resource_variable_ops.BaseResourceVariable))),\n\u001b[0;32m-> 1665\u001b[0;31m         self.captured_inputs)\n\u001b[0m\u001b[1;32m   1666\u001b[0m \u001b[0;34m\u001b[0m\u001b[0m\n\u001b[1;32m   1667\u001b[0m   \u001b[0;32mdef\u001b[0m \u001b[0m_call_flat\u001b[0m\u001b[0;34m(\u001b[0m\u001b[0mself\u001b[0m\u001b[0;34m,\u001b[0m \u001b[0margs\u001b[0m\u001b[0;34m,\u001b[0m \u001b[0mcaptured_inputs\u001b[0m\u001b[0;34m,\u001b[0m \u001b[0mcancellation_manager\u001b[0m\u001b[0;34m=\u001b[0m\u001b[0;32mNone\u001b[0m\u001b[0;34m)\u001b[0m\u001b[0;34m:\u001b[0m\u001b[0;34m\u001b[0m\u001b[0;34m\u001b[0m\u001b[0m\n",
            "\u001b[0;32m/usr/local/lib/python3.6/dist-packages/tensorflow/python/eager/function.py\u001b[0m in \u001b[0;36m_call_flat\u001b[0;34m(self, args, captured_inputs, cancellation_manager)\u001b[0m\n\u001b[1;32m   1744\u001b[0m       \u001b[0;31m# No tape is watching; skip to running the function.\u001b[0m\u001b[0;34m\u001b[0m\u001b[0;34m\u001b[0m\u001b[0;34m\u001b[0m\u001b[0m\n\u001b[1;32m   1745\u001b[0m       return self._build_call_outputs(self._inference_function.call(\n\u001b[0;32m-> 1746\u001b[0;31m           ctx, args, cancellation_manager=cancellation_manager))\n\u001b[0m\u001b[1;32m   1747\u001b[0m     forward_backward = self._select_forward_and_backward_functions(\n\u001b[1;32m   1748\u001b[0m         \u001b[0margs\u001b[0m\u001b[0;34m,\u001b[0m\u001b[0;34m\u001b[0m\u001b[0;34m\u001b[0m\u001b[0m\n",
            "\u001b[0;32m/usr/local/lib/python3.6/dist-packages/tensorflow/python/eager/function.py\u001b[0m in \u001b[0;36mcall\u001b[0;34m(self, ctx, args, cancellation_manager)\u001b[0m\n\u001b[1;32m    596\u001b[0m               \u001b[0minputs\u001b[0m\u001b[0;34m=\u001b[0m\u001b[0margs\u001b[0m\u001b[0;34m,\u001b[0m\u001b[0;34m\u001b[0m\u001b[0;34m\u001b[0m\u001b[0m\n\u001b[1;32m    597\u001b[0m               \u001b[0mattrs\u001b[0m\u001b[0;34m=\u001b[0m\u001b[0mattrs\u001b[0m\u001b[0;34m,\u001b[0m\u001b[0;34m\u001b[0m\u001b[0;34m\u001b[0m\u001b[0m\n\u001b[0;32m--> 598\u001b[0;31m               ctx=ctx)\n\u001b[0m\u001b[1;32m    599\u001b[0m         \u001b[0;32melse\u001b[0m\u001b[0;34m:\u001b[0m\u001b[0;34m\u001b[0m\u001b[0;34m\u001b[0m\u001b[0m\n\u001b[1;32m    600\u001b[0m           outputs = execute.execute_with_cancellation(\n",
            "\u001b[0;32m/usr/local/lib/python3.6/dist-packages/tensorflow/python/eager/execute.py\u001b[0m in \u001b[0;36mquick_execute\u001b[0;34m(op_name, num_outputs, inputs, attrs, ctx, name)\u001b[0m\n\u001b[1;32m     58\u001b[0m     \u001b[0mctx\u001b[0m\u001b[0;34m.\u001b[0m\u001b[0mensure_initialized\u001b[0m\u001b[0;34m(\u001b[0m\u001b[0;34m)\u001b[0m\u001b[0;34m\u001b[0m\u001b[0;34m\u001b[0m\u001b[0m\n\u001b[1;32m     59\u001b[0m     tensors = pywrap_tfe.TFE_Py_Execute(ctx._handle, device_name, op_name,\n\u001b[0;32m---> 60\u001b[0;31m                                         inputs, attrs, num_outputs)\n\u001b[0m\u001b[1;32m     61\u001b[0m   \u001b[0;32mexcept\u001b[0m \u001b[0mcore\u001b[0m\u001b[0;34m.\u001b[0m\u001b[0m_NotOkStatusException\u001b[0m \u001b[0;32mas\u001b[0m \u001b[0me\u001b[0m\u001b[0;34m:\u001b[0m\u001b[0;34m\u001b[0m\u001b[0;34m\u001b[0m\u001b[0m\n\u001b[1;32m     62\u001b[0m     \u001b[0;32mif\u001b[0m \u001b[0mname\u001b[0m \u001b[0;32mis\u001b[0m \u001b[0;32mnot\u001b[0m \u001b[0;32mNone\u001b[0m\u001b[0;34m:\u001b[0m\u001b[0;34m\u001b[0m\u001b[0;34m\u001b[0m\u001b[0m\n",
            "\u001b[0;31mInvalidArgumentError\u001b[0m:  Conv2DCustomBackpropInputOp only supports NHWC.\n\t [[node g_synthesis/8x8/block/conv_0/conv2d_transpose (defined at /content/drive/My Drive/stylegan/sgan2tf2x/stylegan2/upfirdn_2d.py:79) ]] [Op:__inference_call_67313]\n\nErrors may have originated from an input operation.\nInput Source operations connected to node g_synthesis/8x8/block/conv_0/conv2d_transpose:\n g_synthesis/8x8/block/conv_0/Reshape_1 (defined at /content/drive/My Drive/stylegan/sgan2tf2x/stylegan2/custom_layers.py:221)\t\n g_synthesis/8x8/block/conv_0/Reshape_3 (defined at /content/drive/My Drive/stylegan/sgan2tf2x/stylegan2/upfirdn_2d.py:76)\n\nFunction call stack:\ncall\n"
          ]
        }
      ]
    },
    {
      "cell_type": "markdown",
      "metadata": {
        "id": "s_3h_9u8V-4c",
        "colab_type": "text"
      },
      "source": [
        "## 训练"
      ]
    },
    {
      "cell_type": "code",
      "metadata": {
        "id": "Ua5mPfMdZeiE",
        "colab_type": "code",
        "colab": {}
      },
      "source": [
        "\n",
        "# 构建模型\n",
        "trainer = Trainer(training_parameters, \n",
        "            name='stylegan2-yellow'\n",
        "                  )\n",
        "\n",
        "trainer.train()\n"
      ],
      "execution_count": null,
      "outputs": []
    },
    {
      "cell_type": "markdown",
      "metadata": {
        "id": "omRPr0BZ_55e",
        "colab_type": "text"
      },
      "source": [
        "# 附录"
      ]
    },
    {
      "cell_type": "markdown",
      "metadata": {
        "id": "wV3_EwQa_8ol",
        "colab_type": "text"
      },
      "source": [
        "## 制作TFRecords"
      ]
    },
    {
      "cell_type": "code",
      "metadata": {
        "id": "1nKVRGd1VmHR",
        "colab_type": "code",
        "colab": {
          "base_uri": "https://localhost:8080/",
          "height": 33
        },
        "outputId": "267bca0f-5351-4aed-b4b2-aafeeaec9b2d"
      },
      "source": [
        "%cd /content/drive/My Drive/datasets/faceset/yellow/"
      ],
      "execution_count": null,
      "outputs": [
        {
          "output_type": "stream",
          "text": [
            "/content/drive/My Drive/datasets/faceset/yellow\n"
          ],
          "name": "stdout"
        }
      ]
    },
    {
      "cell_type": "code",
      "metadata": {
        "id": "CsuURNfxstvm",
        "colab_type": "code",
        "colab": {}
      },
      "source": [
        "import os \n",
        "import tensorflow as tf \n",
        "from PIL import Image  \n",
        "import matplotlib.pyplot as plt \n",
        "import numpy as np\n",
        "import pathlib\n",
        "\n",
        "AUTOTUNE = tf.data.experimental.AUTOTUNE\n"
      ],
      "execution_count": null,
      "outputs": []
    },
    {
      "cell_type": "code",
      "metadata": {
        "id": "uoL_8yfSFv_q",
        "colab_type": "code",
        "colab": {}
      },
      "source": [
        "data_root=pathlib.Path('/content/drive/My Drive/datasets/faceset/yellow/') \n",
        "#tfrecord_file=\"/content/drive/My Drive/datasets/yellowlite.tfrecords\"\n",
        "tfrecord_file=\"gs://howiecao_gcs/yellowlite/yellowlite.tfrecords\"\n",
        "\n",
        "\n",
        "all_image_paths = list(data_root.glob('*.png'))\n",
        "all_image_paths = [str(path) for path in all_image_paths]\n",
        "\n",
        "writer= tf.io.TFRecordWriter(tfrecord_file) #要生成的文件\n",
        "\n",
        "\n",
        "for img_path in all_image_paths: \n",
        "\n",
        "    image= plt.imread(img_path)\n",
        "    image_shape = image.shape\n",
        "    \n",
        "    image_bytes = image.tobytes()\n",
        "\n",
        "    example=tf.train.Example(\n",
        "        features=tf.train.Features(\n",
        "           feature = {\n",
        "                'shape': tf.train.Feature(int64_list=tf.train.Int64List(value=image_shape)),\n",
        "                'data':  tf.train.Feature(bytes_list=tf.train.BytesList(value=[image_bytes])) \n",
        "                }\n",
        "                )\n",
        "        )\n",
        "\n",
        "    example_str = example.SerializeToString()\n",
        "    writer.write(example_str)\n",
        "\n",
        "writer.close()"
      ],
      "execution_count": null,
      "outputs": []
    },
    {
      "cell_type": "code",
      "metadata": {
        "id": "4iYQzL6Hk4BP",
        "colab_type": "code",
        "colab": {}
      },
      "source": [
        ""
      ],
      "execution_count": null,
      "outputs": []
    },
    {
      "cell_type": "code",
      "metadata": {
        "id": "cTeTh7DEk8oU",
        "colab_type": "code",
        "colab": {}
      },
      "source": [
        "feature = {\n",
        "    'shape':  tf.io.FixedLenFeature([3], tf.int64),\n",
        "    'data':  tf.io.FixedLenFeature([], tf.string) \n",
        "        }\n",
        "\n",
        "def _parse_image_function(example_proto):\n",
        "  # Parse the input tf.Example proto using the dictionary above.\n",
        "  return tf.io.parse_single_example(example_proto, feature)"
      ],
      "execution_count": null,
      "outputs": []
    },
    {
      "cell_type": "code",
      "metadata": {
        "id": "ZyTTLeK-hCID",
        "colab_type": "code",
        "colab": {
          "base_uri": "https://localhost:8080/",
          "height": 268
        },
        "outputId": "5ebbbb34-e2c7-4335-84cd-026a6694b19f"
      },
      "source": [
        "raw_dataset = tf.data.TFRecordDataset([tfrecord_file])\n",
        "parsed_image_dataset = raw_dataset.map(_parse_image_function)\n",
        "\n",
        "i=0\n",
        "for m  in parsed_image_dataset.take(12):\n",
        "    i=i+1\n",
        "    image_shape=m['shape']\n",
        "    #print(m['data'].)\n",
        "    im=tf.io.decode_raw(m['data'],out_type=tf.float32)\n",
        "    im = tf.reshape(im,image_shape)\n",
        "    plt.subplot(4,3,i)\n",
        "    plt.imshow(im)\n"
      ],
      "execution_count": null,
      "outputs": [
        {
          "output_type": "display_data",
          "data": {
            "image/png": "[encoded data removed]",
            "text/plain": [
              "<Figure size 432x288 with 12 Axes>"
            ]
          },
          "metadata": {
            "tags": [],
            "needs_background": "light"
          }
        }
      ]
    },
    {
      "cell_type": "code",
      "metadata": {
        "id": "k-q1GEIEMKGG",
        "colab_type": "code",
        "colab": {}
      },
      "source": [
        "def parse_tfrecord_tf(record):\n",
        "\n",
        "    feature = {\n",
        "            'shape':  tf.io.FixedLenFeature([3], tf.int64),\n",
        "            'data':  tf.io.FixedLenFeature([], tf.string)\n",
        "            }\n",
        "\n",
        "    features = tf.io.parse_single_example(record, feature)\n",
        "\n",
        "    # [0 ~ 255] uint8\n",
        "    images = tf.io.decode_raw(features['data'], tf.dtypes.float32)\n",
        "    images = tf.reshape(images, features['shape'])\n",
        "\n",
        "    # [0.0 ~ 255.0] float32\n",
        "    images = tf.cast(images, tf.dtypes.float32)\n",
        "\n",
        "    images = tf.transpose(images,[2,0,1])\n",
        "    return images"
      ],
      "execution_count": null,
      "outputs": []
    },
    {
      "cell_type": "code",
      "metadata": {
        "id": "eUhtbUGnhB9b",
        "colab_type": "code",
        "colab": {
          "base_uri": "https://localhost:8080/",
          "height": 33
        },
        "outputId": "224270da-cfd8-4ed3-8dce-3d6281b0d1bc"
      },
      "source": [
        "%cd /content/drive/My\\ Drive/datasets/y3"
      ],
      "execution_count": null,
      "outputs": [
        {
          "output_type": "stream",
          "text": [
            "/content/drive/My Drive/datasets/y3\n"
          ],
          "name": "stdout"
        }
      ]
    },
    {
      "cell_type": "code",
      "metadata": {
        "id": "yBAyrLQphIHw",
        "colab_type": "code",
        "colab": {}
      },
      "source": [
        "!cat race_yellow.* > y3.zip"
      ],
      "execution_count": null,
      "outputs": []
    }
  ]
}